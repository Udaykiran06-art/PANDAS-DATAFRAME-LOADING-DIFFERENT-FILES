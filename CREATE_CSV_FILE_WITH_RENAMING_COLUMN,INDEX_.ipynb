{
  "nbformat": 4,
  "nbformat_minor": 0,
  "metadata": {
    "colab": {
      "provenance": [],
      "authorship_tag": "ABX9TyOpxGy9pixBk/kTizKD1/7D",
      "include_colab_link": true
    },
    "kernelspec": {
      "name": "python3",
      "display_name": "Python 3"
    },
    "language_info": {
      "name": "python"
    }
  },
  "cells": [
    {
      "cell_type": "markdown",
      "metadata": {
        "id": "view-in-github",
        "colab_type": "text"
      },
      "source": [
        "<a href=\"https://colab.research.google.com/github/Udaykiran06-art/PANDAS-DATAFRAME-LOADING-DIFFERENT-FILES/blob/main/CREATE_CSV_FILE_WITH_RENAMING_COLUMN%2CINDEX_.ipynb\" target=\"_parent\"><img src=\"https://colab.research.google.com/assets/colab-badge.svg\" alt=\"Open In Colab\"/></a>"
      ]
    },
    {
      "cell_type": "code",
      "execution_count": null,
      "metadata": {
        "colab": {
          "base_uri": "https://localhost:8080/",
          "height": 73
        },
        "id": "ayh_nCzGq6HT",
        "outputId": "11c72fda-1de9-4660-e327-38793dd6a3ba"
      },
      "outputs": [
        {
          "output_type": "display_data",
          "data": {
            "text/plain": [
              "<IPython.core.display.HTML object>"
            ],
            "text/html": [
              "\n",
              "     <input type=\"file\" id=\"files-e0ef4d54-4c14-4a85-88ad-ebe9cecefdb0\" name=\"files[]\" multiple disabled\n",
              "        style=\"border:none\" />\n",
              "     <output id=\"result-e0ef4d54-4c14-4a85-88ad-ebe9cecefdb0\">\n",
              "      Upload widget is only available when the cell has been executed in the\n",
              "      current browser session. Please rerun this cell to enable.\n",
              "      </output>\n",
              "      <script>// Copyright 2017 Google LLC\n",
              "//\n",
              "// Licensed under the Apache License, Version 2.0 (the \"License\");\n",
              "// you may not use this file except in compliance with the License.\n",
              "// You may obtain a copy of the License at\n",
              "//\n",
              "//      http://www.apache.org/licenses/LICENSE-2.0\n",
              "//\n",
              "// Unless required by applicable law or agreed to in writing, software\n",
              "// distributed under the License is distributed on an \"AS IS\" BASIS,\n",
              "// WITHOUT WARRANTIES OR CONDITIONS OF ANY KIND, either express or implied.\n",
              "// See the License for the specific language governing permissions and\n",
              "// limitations under the License.\n",
              "\n",
              "/**\n",
              " * @fileoverview Helpers for google.colab Python module.\n",
              " */\n",
              "(function(scope) {\n",
              "function span(text, styleAttributes = {}) {\n",
              "  const element = document.createElement('span');\n",
              "  element.textContent = text;\n",
              "  for (const key of Object.keys(styleAttributes)) {\n",
              "    element.style[key] = styleAttributes[key];\n",
              "  }\n",
              "  return element;\n",
              "}\n",
              "\n",
              "// Max number of bytes which will be uploaded at a time.\n",
              "const MAX_PAYLOAD_SIZE = 100 * 1024;\n",
              "\n",
              "function _uploadFiles(inputId, outputId) {\n",
              "  const steps = uploadFilesStep(inputId, outputId);\n",
              "  const outputElement = document.getElementById(outputId);\n",
              "  // Cache steps on the outputElement to make it available for the next call\n",
              "  // to uploadFilesContinue from Python.\n",
              "  outputElement.steps = steps;\n",
              "\n",
              "  return _uploadFilesContinue(outputId);\n",
              "}\n",
              "\n",
              "// This is roughly an async generator (not supported in the browser yet),\n",
              "// where there are multiple asynchronous steps and the Python side is going\n",
              "// to poll for completion of each step.\n",
              "// This uses a Promise to block the python side on completion of each step,\n",
              "// then passes the result of the previous step as the input to the next step.\n",
              "function _uploadFilesContinue(outputId) {\n",
              "  const outputElement = document.getElementById(outputId);\n",
              "  const steps = outputElement.steps;\n",
              "\n",
              "  const next = steps.next(outputElement.lastPromiseValue);\n",
              "  return Promise.resolve(next.value.promise).then((value) => {\n",
              "    // Cache the last promise value to make it available to the next\n",
              "    // step of the generator.\n",
              "    outputElement.lastPromiseValue = value;\n",
              "    return next.value.response;\n",
              "  });\n",
              "}\n",
              "\n",
              "/**\n",
              " * Generator function which is called between each async step of the upload\n",
              " * process.\n",
              " * @param {string} inputId Element ID of the input file picker element.\n",
              " * @param {string} outputId Element ID of the output display.\n",
              " * @return {!Iterable<!Object>} Iterable of next steps.\n",
              " */\n",
              "function* uploadFilesStep(inputId, outputId) {\n",
              "  const inputElement = document.getElementById(inputId);\n",
              "  inputElement.disabled = false;\n",
              "\n",
              "  const outputElement = document.getElementById(outputId);\n",
              "  outputElement.innerHTML = '';\n",
              "\n",
              "  const pickedPromise = new Promise((resolve) => {\n",
              "    inputElement.addEventListener('change', (e) => {\n",
              "      resolve(e.target.files);\n",
              "    });\n",
              "  });\n",
              "\n",
              "  const cancel = document.createElement('button');\n",
              "  inputElement.parentElement.appendChild(cancel);\n",
              "  cancel.textContent = 'Cancel upload';\n",
              "  const cancelPromise = new Promise((resolve) => {\n",
              "    cancel.onclick = () => {\n",
              "      resolve(null);\n",
              "    };\n",
              "  });\n",
              "\n",
              "  // Wait for the user to pick the files.\n",
              "  const files = yield {\n",
              "    promise: Promise.race([pickedPromise, cancelPromise]),\n",
              "    response: {\n",
              "      action: 'starting',\n",
              "    }\n",
              "  };\n",
              "\n",
              "  cancel.remove();\n",
              "\n",
              "  // Disable the input element since further picks are not allowed.\n",
              "  inputElement.disabled = true;\n",
              "\n",
              "  if (!files) {\n",
              "    return {\n",
              "      response: {\n",
              "        action: 'complete',\n",
              "      }\n",
              "    };\n",
              "  }\n",
              "\n",
              "  for (const file of files) {\n",
              "    const li = document.createElement('li');\n",
              "    li.append(span(file.name, {fontWeight: 'bold'}));\n",
              "    li.append(span(\n",
              "        `(${file.type || 'n/a'}) - ${file.size} bytes, ` +\n",
              "        `last modified: ${\n",
              "            file.lastModifiedDate ? file.lastModifiedDate.toLocaleDateString() :\n",
              "                                    'n/a'} - `));\n",
              "    const percent = span('0% done');\n",
              "    li.appendChild(percent);\n",
              "\n",
              "    outputElement.appendChild(li);\n",
              "\n",
              "    const fileDataPromise = new Promise((resolve) => {\n",
              "      const reader = new FileReader();\n",
              "      reader.onload = (e) => {\n",
              "        resolve(e.target.result);\n",
              "      };\n",
              "      reader.readAsArrayBuffer(file);\n",
              "    });\n",
              "    // Wait for the data to be ready.\n",
              "    let fileData = yield {\n",
              "      promise: fileDataPromise,\n",
              "      response: {\n",
              "        action: 'continue',\n",
              "      }\n",
              "    };\n",
              "\n",
              "    // Use a chunked sending to avoid message size limits. See b/62115660.\n",
              "    let position = 0;\n",
              "    do {\n",
              "      const length = Math.min(fileData.byteLength - position, MAX_PAYLOAD_SIZE);\n",
              "      const chunk = new Uint8Array(fileData, position, length);\n",
              "      position += length;\n",
              "\n",
              "      const base64 = btoa(String.fromCharCode.apply(null, chunk));\n",
              "      yield {\n",
              "        response: {\n",
              "          action: 'append',\n",
              "          file: file.name,\n",
              "          data: base64,\n",
              "        },\n",
              "      };\n",
              "\n",
              "      let percentDone = fileData.byteLength === 0 ?\n",
              "          100 :\n",
              "          Math.round((position / fileData.byteLength) * 100);\n",
              "      percent.textContent = `${percentDone}% done`;\n",
              "\n",
              "    } while (position < fileData.byteLength);\n",
              "  }\n",
              "\n",
              "  // All done.\n",
              "  yield {\n",
              "    response: {\n",
              "      action: 'complete',\n",
              "    }\n",
              "  };\n",
              "}\n",
              "\n",
              "scope.google = scope.google || {};\n",
              "scope.google.colab = scope.google.colab || {};\n",
              "scope.google.colab._files = {\n",
              "  _uploadFiles,\n",
              "  _uploadFilesContinue,\n",
              "};\n",
              "})(self);\n",
              "</script> "
            ]
          },
          "metadata": {}
        },
        {
          "output_type": "stream",
          "name": "stdout",
          "text": [
            "Saving sales1.csv to sales1.csv\n"
          ]
        }
      ],
      "source": [
        "#Creating DataFrame and checking column names\n",
        "from google.colab import files\n",
        "uploaded = files.upload()\n"
      ]
    },
    {
      "cell_type": "code",
      "source": [
        "#Creating DataFrame and checking column names\n",
        "import pandas as pd\n",
        "df = pd.read_csv(\"sales1.csv\")\n",
        "print(df.head())\n",
        "print()\n",
        "print(df.columns)\n",
        "\n"
      ],
      "metadata": {
        "colab": {
          "base_uri": "https://localhost:8080/"
        },
        "id": "duU1hbbMraWI",
        "outputId": "fe5f1390-3b0e-4e1e-a5cc-ace3c4497782"
      },
      "execution_count": null,
      "outputs": [
        {
          "output_type": "stream",
          "name": "stdout",
          "text": [
            "   Order ID Customer Name                 Product  Quantity\n",
            "0    166837         Veeru  34in Ultrawide Monitor         2\n",
            "1    166838         Tarun             Samsung m10         3\n",
            "2    166839         Kedar            20in Monitor         1\n",
            "3    166840       Lavanya               iPhone 11         3\n",
            "4    166841          Venu      Macbook Pro Laptop         2\n",
            "\n",
            "Index(['Order ID', 'Customer Name', 'Product', 'Quantity'], dtype='object')\n"
          ]
        }
      ]
    },
    {
      "cell_type": "code",
      "source": [
        "#Renaming single column in DataFrame\n",
        "import pandas as pd\n",
        "df1 = pd.read_csv(\"sales1.csv\")\n",
        "d = {\n",
        "    \"Order ID\":\"Ord Id\",\n",
        "}\n",
        "df2 = df1.rename(columns=d)\n",
        "print(df1.head())\n",
        "print()\n",
        "print(df2.head())"
      ],
      "metadata": {
        "colab": {
          "base_uri": "https://localhost:8080/"
        },
        "id": "_46s4jKzr5kz",
        "outputId": "cc329515-d333-49cc-8bed-5fa95b1d88cf"
      },
      "execution_count": null,
      "outputs": [
        {
          "output_type": "stream",
          "name": "stdout",
          "text": [
            "   Order ID Customer Name                 Product  Quantity\n",
            "0    166837         Veeru  34in Ultrawide Monitor         2\n",
            "1    166838         Tarun             Samsung m10         3\n",
            "2    166839         Kedar            20in Monitor         1\n",
            "3    166840       Lavanya               iPhone 11         3\n",
            "4    166841          Venu      Macbook Pro Laptop         2\n",
            "\n",
            "   Ord Id Customer Name                 Product  Quantity\n",
            "0  166837         Veeru  34in Ultrawide Monitor         2\n",
            "1  166838         Tarun             Samsung m10         3\n",
            "2  166839         Kedar            20in Monitor         1\n",
            "3  166840       Lavanya               iPhone 11         3\n",
            "4  166841          Venu      Macbook Pro Laptop         2\n"
          ]
        }
      ]
    },
    {
      "cell_type": "code",
      "source": [
        "#Renaming single column in DataFrame\n",
        "import pandas as pd\n",
        "df1 = pd.read_csv(\"sales1.csv\")\n",
        "d = {\n",
        "    \"Order ID\":\"Ordd Id\"\n",
        "}\n",
        "df2 = df1.rename(columns=d)\n",
        "print(df1.head())\n",
        "print()\n",
        "print(df2.head())"
      ],
      "metadata": {
        "colab": {
          "base_uri": "https://localhost:8080/"
        },
        "id": "Qd-VF5KGswKC",
        "outputId": "eb2ee347-8297-44b9-8452-f875bdee0bbc"
      },
      "execution_count": null,
      "outputs": [
        {
          "output_type": "stream",
          "name": "stdout",
          "text": [
            "   Order ID Customer Name                 Product  Quantity\n",
            "0    166837         Veeru  34in Ultrawide Monitor         2\n",
            "1    166838         Tarun             Samsung m10         3\n",
            "2    166839         Kedar            20in Monitor         1\n",
            "3    166840       Lavanya               iPhone 11         3\n",
            "4    166841          Venu      Macbook Pro Laptop         2\n",
            "\n",
            "   Ordd Id Customer Name                 Product  Quantity\n",
            "0   166837         Veeru  34in Ultrawide Monitor         2\n",
            "1   166838         Tarun             Samsung m10         3\n",
            "2   166839         Kedar            20in Monitor         1\n",
            "3   166840       Lavanya               iPhone 11         3\n",
            "4   166841          Venu      Macbook Pro Laptop         2\n"
          ]
        }
      ]
    },
    {
      "cell_type": "code",
      "source": [
        "#Renaming multiple column in DataFrame\n",
        "import pandas as pd\n",
        "df1 = pd.read_csv(\"sales1.csv\")\n",
        "d = {\n",
        "    \"Order ID\":\"Ord Id\",\n",
        "    \"Product\":\"Prod\",\n",
        "    \"Customer Name\":\"Cust Name\",\n",
        "    \"Quantity\":\"Qty\"\n",
        "}\n",
        "df2 = df1.rename(columns=d)\n",
        "print(df1.head())\n",
        "print()\n",
        "print(df2.head())"
      ],
      "metadata": {
        "colab": {
          "base_uri": "https://localhost:8080/"
        },
        "id": "xS2n_x15tcij",
        "outputId": "60a6e106-094e-4d0e-f2e6-1c3a9df39821"
      },
      "execution_count": null,
      "outputs": [
        {
          "output_type": "stream",
          "name": "stdout",
          "text": [
            "   Order ID Customer Name                 Product  Quantity\n",
            "0    166837         Veeru  34in Ultrawide Monitor         2\n",
            "1    166838         Tarun             Samsung m10         3\n",
            "2    166839         Kedar            20in Monitor         1\n",
            "3    166840       Lavanya               iPhone 11         3\n",
            "4    166841          Venu      Macbook Pro Laptop         2\n",
            "\n",
            "   Ord Id Cust Name                    Prod  Qty\n",
            "0  166837     Veeru  34in Ultrawide Monitor    2\n",
            "1  166838     Tarun             Samsung m10    3\n",
            "2  166839     Kedar            20in Monitor    1\n",
            "3  166840   Lavanya               iPhone 11    3\n",
            "4  166841      Venu      Macbook Pro Laptop    2\n"
          ]
        }
      ]
    },
    {
      "cell_type": "code",
      "source": [
        "#Renaming multiple column in DataFrame\n",
        "import pandas as pd\n",
        "df1 = pd.read_csv(\"sales1.csv\")\n",
        "print(df1.head())\n",
        "df1.columns = [\n",
        "    \"Order_ID\",\n",
        "    \"Product_Name\",\n",
        "    \"Quantity_Ordered\",\n",
        "    \"Customer_Name\"\n",
        "]\n",
        "print()\n",
        "print(df1.head())"
      ],
      "metadata": {
        "colab": {
          "base_uri": "https://localhost:8080/"
        },
        "id": "qYB5qcVLuRg8",
        "outputId": "618e7ce5-8c04-4367-e862-70bee0e08df6"
      },
      "execution_count": null,
      "outputs": [
        {
          "output_type": "stream",
          "name": "stdout",
          "text": [
            "   Order ID Customer Name                 Product  Quantity\n",
            "0    166837         Veeru  34in Ultrawide Monitor         2\n",
            "1    166838         Tarun             Samsung m10         3\n",
            "2    166839         Kedar            20in Monitor         1\n",
            "3    166840       Lavanya               iPhone 11         3\n",
            "4    166841          Venu      Macbook Pro Laptop         2\n",
            "\n",
            "   Order_ID Product_Name        Quantity_Ordered  Customer_Name\n",
            "0    166837        Veeru  34in Ultrawide Monitor              2\n",
            "1    166838        Tarun             Samsung m10              3\n",
            "2    166839        Kedar            20in Monitor              1\n",
            "3    166840      Lavanya               iPhone 11              3\n",
            "4    166841         Venu      Macbook Pro Laptop              2\n"
          ]
        }
      ]
    },
    {
      "cell_type": "code",
      "source": [
        "#Creating sample in DataFrame\n",
        "import pandas as pd\n",
        "d = {\n",
        "    \"Order_ID\":[11,21,31],\n",
        "    \"Customer_Name\":[\"Prasad\",\"Daniel\",\"Jeswanth\"],\n",
        "    \"Product\":[\"iPhone\",\"hTC\",\"macbook\"]\n",
        "}\n",
        "df1 = pd.DataFrame(d)\n",
        "print(df1)"
      ],
      "metadata": {
        "id": "hdpawVlBwdvg",
        "colab": {
          "base_uri": "https://localhost:8080/"
        },
        "outputId": "cf623480-d1f9-4e00-b219-af2b7fd4551a"
      },
      "execution_count": null,
      "outputs": [
        {
          "output_type": "stream",
          "name": "stdout",
          "text": [
            "   Order_ID Customer_Name  Product\n",
            "0        11        Prasad   iPhone\n",
            "1        21        Daniel      hTC\n",
            "2        31      Jeswanth  macbook\n"
          ]
        }
      ]
    },
    {
      "cell_type": "code",
      "source": [
        "#Changing index in DataFrame\n",
        "import pandas as pd\n",
        "d = {\n",
        "    \"Order_ID\":[11,21,31],\n",
        "    \"Customer_Name\":[\"Prasad\",\"Daniel\",\"Jeswanth\"],\n",
        "    \"Product\":[\"iPhone\",\"hTC\",\"macbook\"]\n",
        "}\n",
        "\n",
        "i = {0:77,1:88,2:99}\n",
        "df1 = pd.DataFrame(d)\n",
        "df2 = df1.rename(index=i)\n",
        "print(df2)"
      ],
      "metadata": {
        "colab": {
          "base_uri": "https://localhost:8080/"
        },
        "id": "8QUjuENJzQuK",
        "outputId": "e5b92981-9b6a-47dc-968e-404cedc61b2e"
      },
      "execution_count": null,
      "outputs": [
        {
          "output_type": "stream",
          "name": "stdout",
          "text": [
            "    Order_ID Customer_Name  Product\n",
            "77        11        Prasad   iPhone\n",
            "88        21        Daniel      hTC\n",
            "99        31      Jeswanth  macbook\n"
          ]
        }
      ]
    },
    {
      "cell_type": "code",
      "source": [
        "#Changing index in DataFrame,using axis parameter\n",
        "import pandas as pd\n",
        "d = {\n",
        "    \"Order_ID\":[11,21,31],\n",
        "    \"Customer_Name\":[\"Prasad\",\"Daniel\",\"Jeswanth\"],\n",
        "    \"Product\":[\"iPhone\",\"hTC\",\"macbook\"]\n",
        "}\n",
        "\n",
        "df1 = pd.DataFrame(d)\n",
        "print(df1)\n",
        "df1.index = [77,88,99]\n",
        "print()\n",
        "print(df1)"
      ],
      "metadata": {
        "colab": {
          "base_uri": "https://localhost:8080/"
        },
        "id": "mpJTx0vC0P2z",
        "outputId": "3af9c0ad-a52b-4b10-ad22-dc6ea78f605e"
      },
      "execution_count": null,
      "outputs": [
        {
          "output_type": "stream",
          "name": "stdout",
          "text": [
            "   Order_ID Customer_Name  Product\n",
            "0        11        Prasad   iPhone\n",
            "1        21        Daniel      hTC\n",
            "2        31      Jeswanth  macbook\n",
            "\n",
            "    Order_ID Customer_Name  Product\n",
            "77        11        Prasad   iPhone\n",
            "88        21        Daniel      hTC\n",
            "99        31      Jeswanth  macbook\n"
          ]
        }
      ]
    },
    {
      "cell_type": "code",
      "source": [
        "#Changing index in DataFrame,using index attribute\n",
        "import pandas as pd\n",
        "df = pd.read_csv(\"sales1.csv\")\n",
        "print(df)\n",
        "\n",
        "df.index = range(10,20)\n",
        "\n",
        "print()\n",
        "print(df)"
      ],
      "metadata": {
        "colab": {
          "base_uri": "https://localhost:8080/",
          "height": 634
        },
        "id": "h2mbqBDM1Hnl",
        "outputId": "c8c51921-1ffe-4664-9a35-c77659cd840b"
      },
      "execution_count": null,
      "outputs": [
        {
          "output_type": "stream",
          "name": "stdout",
          "text": [
            "     Order ID Customer Name                 Product  Quantity\n",
            "0      166837         Veeru  34in Ultrawide Monitor         2\n",
            "1      166838         Tarun             Samsung m10         3\n",
            "2      166839         Kedar            20in Monitor         1\n",
            "3      166840       Lavanya               iPhone 11         3\n",
            "4      166841          Venu      Macbook Pro Laptop         2\n",
            "..        ...           ...                     ...       ...\n",
            "595    167403        Balaji      Macbook Pro Laptop         1\n",
            "596    167404       Lavanya         ThinkPad Laptop         1\n",
            "597    167405          Venu           Flatscreen TV         1\n",
            "598    167406        Siddhu             Samsung m20         2\n",
            "599    167407         Tarun      LG Washing Machine         1\n",
            "\n",
            "[600 rows x 4 columns]\n"
          ]
        },
        {
          "output_type": "error",
          "ename": "ValueError",
          "evalue": "Length mismatch: Expected axis has 600 elements, new values have 10 elements",
          "traceback": [
            "\u001b[0;31m---------------------------------------------------------------------------\u001b[0m",
            "\u001b[0;31mValueError\u001b[0m                                Traceback (most recent call last)",
            "\u001b[0;32m/tmp/ipython-input-1811659432.py\u001b[0m in \u001b[0;36m<cell line: 0>\u001b[0;34m()\u001b[0m\n\u001b[1;32m      4\u001b[0m \u001b[0mprint\u001b[0m\u001b[0;34m(\u001b[0m\u001b[0mdf\u001b[0m\u001b[0;34m)\u001b[0m\u001b[0;34m\u001b[0m\u001b[0;34m\u001b[0m\u001b[0m\n\u001b[1;32m      5\u001b[0m \u001b[0;34m\u001b[0m\u001b[0m\n\u001b[0;32m----> 6\u001b[0;31m \u001b[0mdf\u001b[0m\u001b[0;34m.\u001b[0m\u001b[0mindex\u001b[0m \u001b[0;34m=\u001b[0m \u001b[0mrange\u001b[0m\u001b[0;34m(\u001b[0m\u001b[0;36m10\u001b[0m\u001b[0;34m,\u001b[0m\u001b[0;36m20\u001b[0m\u001b[0;34m)\u001b[0m\u001b[0;34m\u001b[0m\u001b[0;34m\u001b[0m\u001b[0m\n\u001b[0m\u001b[1;32m      7\u001b[0m \u001b[0;34m\u001b[0m\u001b[0m\n\u001b[1;32m      8\u001b[0m \u001b[0mprint\u001b[0m\u001b[0;34m(\u001b[0m\u001b[0;34m)\u001b[0m\u001b[0;34m\u001b[0m\u001b[0;34m\u001b[0m\u001b[0m\n",
            "\u001b[0;32m/usr/local/lib/python3.12/dist-packages/pandas/core/generic.py\u001b[0m in \u001b[0;36m__setattr__\u001b[0;34m(self, name, value)\u001b[0m\n\u001b[1;32m   6311\u001b[0m         \u001b[0;32mtry\u001b[0m\u001b[0;34m:\u001b[0m\u001b[0;34m\u001b[0m\u001b[0;34m\u001b[0m\u001b[0m\n\u001b[1;32m   6312\u001b[0m             \u001b[0mobject\u001b[0m\u001b[0;34m.\u001b[0m\u001b[0m__getattribute__\u001b[0m\u001b[0;34m(\u001b[0m\u001b[0mself\u001b[0m\u001b[0;34m,\u001b[0m \u001b[0mname\u001b[0m\u001b[0;34m)\u001b[0m\u001b[0;34m\u001b[0m\u001b[0;34m\u001b[0m\u001b[0m\n\u001b[0;32m-> 6313\u001b[0;31m             \u001b[0;32mreturn\u001b[0m \u001b[0mobject\u001b[0m\u001b[0;34m.\u001b[0m\u001b[0m__setattr__\u001b[0m\u001b[0;34m(\u001b[0m\u001b[0mself\u001b[0m\u001b[0;34m,\u001b[0m \u001b[0mname\u001b[0m\u001b[0;34m,\u001b[0m \u001b[0mvalue\u001b[0m\u001b[0;34m)\u001b[0m\u001b[0;34m\u001b[0m\u001b[0;34m\u001b[0m\u001b[0m\n\u001b[0m\u001b[1;32m   6314\u001b[0m         \u001b[0;32mexcept\u001b[0m \u001b[0mAttributeError\u001b[0m\u001b[0;34m:\u001b[0m\u001b[0;34m\u001b[0m\u001b[0;34m\u001b[0m\u001b[0m\n\u001b[1;32m   6315\u001b[0m             \u001b[0;32mpass\u001b[0m\u001b[0;34m\u001b[0m\u001b[0;34m\u001b[0m\u001b[0m\n",
            "\u001b[0;32mproperties.pyx\u001b[0m in \u001b[0;36mpandas._libs.properties.AxisProperty.__set__\u001b[0;34m()\u001b[0m\n",
            "\u001b[0;32m/usr/local/lib/python3.12/dist-packages/pandas/core/generic.py\u001b[0m in \u001b[0;36m_set_axis\u001b[0;34m(self, axis, labels)\u001b[0m\n\u001b[1;32m    812\u001b[0m         \"\"\"\n\u001b[1;32m    813\u001b[0m         \u001b[0mlabels\u001b[0m \u001b[0;34m=\u001b[0m \u001b[0mensure_index\u001b[0m\u001b[0;34m(\u001b[0m\u001b[0mlabels\u001b[0m\u001b[0;34m)\u001b[0m\u001b[0;34m\u001b[0m\u001b[0;34m\u001b[0m\u001b[0m\n\u001b[0;32m--> 814\u001b[0;31m         \u001b[0mself\u001b[0m\u001b[0;34m.\u001b[0m\u001b[0m_mgr\u001b[0m\u001b[0;34m.\u001b[0m\u001b[0mset_axis\u001b[0m\u001b[0;34m(\u001b[0m\u001b[0maxis\u001b[0m\u001b[0;34m,\u001b[0m \u001b[0mlabels\u001b[0m\u001b[0;34m)\u001b[0m\u001b[0;34m\u001b[0m\u001b[0;34m\u001b[0m\u001b[0m\n\u001b[0m\u001b[1;32m    815\u001b[0m         \u001b[0mself\u001b[0m\u001b[0;34m.\u001b[0m\u001b[0m_clear_item_cache\u001b[0m\u001b[0;34m(\u001b[0m\u001b[0;34m)\u001b[0m\u001b[0;34m\u001b[0m\u001b[0;34m\u001b[0m\u001b[0m\n\u001b[1;32m    816\u001b[0m \u001b[0;34m\u001b[0m\u001b[0m\n",
            "\u001b[0;32m/usr/local/lib/python3.12/dist-packages/pandas/core/internals/managers.py\u001b[0m in \u001b[0;36mset_axis\u001b[0;34m(self, axis, new_labels)\u001b[0m\n\u001b[1;32m    236\u001b[0m     \u001b[0;32mdef\u001b[0m \u001b[0mset_axis\u001b[0m\u001b[0;34m(\u001b[0m\u001b[0mself\u001b[0m\u001b[0;34m,\u001b[0m \u001b[0maxis\u001b[0m\u001b[0;34m:\u001b[0m \u001b[0mAxisInt\u001b[0m\u001b[0;34m,\u001b[0m \u001b[0mnew_labels\u001b[0m\u001b[0;34m:\u001b[0m \u001b[0mIndex\u001b[0m\u001b[0;34m)\u001b[0m \u001b[0;34m->\u001b[0m \u001b[0;32mNone\u001b[0m\u001b[0;34m:\u001b[0m\u001b[0;34m\u001b[0m\u001b[0;34m\u001b[0m\u001b[0m\n\u001b[1;32m    237\u001b[0m         \u001b[0;31m# Caller is responsible for ensuring we have an Index object.\u001b[0m\u001b[0;34m\u001b[0m\u001b[0;34m\u001b[0m\u001b[0m\n\u001b[0;32m--> 238\u001b[0;31m         \u001b[0mself\u001b[0m\u001b[0;34m.\u001b[0m\u001b[0m_validate_set_axis\u001b[0m\u001b[0;34m(\u001b[0m\u001b[0maxis\u001b[0m\u001b[0;34m,\u001b[0m \u001b[0mnew_labels\u001b[0m\u001b[0;34m)\u001b[0m\u001b[0;34m\u001b[0m\u001b[0;34m\u001b[0m\u001b[0m\n\u001b[0m\u001b[1;32m    239\u001b[0m         \u001b[0mself\u001b[0m\u001b[0;34m.\u001b[0m\u001b[0maxes\u001b[0m\u001b[0;34m[\u001b[0m\u001b[0maxis\u001b[0m\u001b[0;34m]\u001b[0m \u001b[0;34m=\u001b[0m \u001b[0mnew_labels\u001b[0m\u001b[0;34m\u001b[0m\u001b[0;34m\u001b[0m\u001b[0m\n\u001b[1;32m    240\u001b[0m \u001b[0;34m\u001b[0m\u001b[0m\n",
            "\u001b[0;32m/usr/local/lib/python3.12/dist-packages/pandas/core/internals/base.py\u001b[0m in \u001b[0;36m_validate_set_axis\u001b[0;34m(self, axis, new_labels)\u001b[0m\n\u001b[1;32m     96\u001b[0m \u001b[0;34m\u001b[0m\u001b[0m\n\u001b[1;32m     97\u001b[0m         \u001b[0;32melif\u001b[0m \u001b[0mnew_len\u001b[0m \u001b[0;34m!=\u001b[0m \u001b[0mold_len\u001b[0m\u001b[0;34m:\u001b[0m\u001b[0;34m\u001b[0m\u001b[0;34m\u001b[0m\u001b[0m\n\u001b[0;32m---> 98\u001b[0;31m             raise ValueError(\n\u001b[0m\u001b[1;32m     99\u001b[0m                 \u001b[0;34mf\"Length mismatch: Expected axis has {old_len} elements, new \"\u001b[0m\u001b[0;34m\u001b[0m\u001b[0;34m\u001b[0m\u001b[0m\n\u001b[1;32m    100\u001b[0m                 \u001b[0;34mf\"values have {new_len} elements\"\u001b[0m\u001b[0;34m\u001b[0m\u001b[0;34m\u001b[0m\u001b[0m\n",
            "\u001b[0;31mValueError\u001b[0m: Length mismatch: Expected axis has 600 elements, new values have 10 elements"
          ]
        }
      ]
    },
    {
      "cell_type": "code",
      "source": [
        "#Changing columns and index in a DataFrame\n",
        "import pandas as pd\n",
        "d = {\n",
        "    \"Order_ID\":[11,21,31],\n",
        "    \"Customer_Name\":[\"Prasad\",\"Daniel\",\"Jeswanth\"],\n",
        "    \"Product\":[\"iPhone\",\"hTC\",\"macbook\"]\n",
        "}\n",
        "\n",
        "df1 = pd.DataFrame(d)\n",
        "print(df1)\n",
        "\n",
        "df1.index = [333,444,555]\n",
        "df1.columns = [\"Ord_ID\",\"Cust_Name\",\"Prod\"]\n",
        "print()\n",
        "print(df1)"
      ],
      "metadata": {
        "colab": {
          "base_uri": "https://localhost:8080/"
        },
        "id": "Rkr7G4D45Swg",
        "outputId": "2be02031-0609-43b1-bc34-aa411d8c38d2"
      },
      "execution_count": null,
      "outputs": [
        {
          "output_type": "stream",
          "name": "stdout",
          "text": [
            "   Order_ID Customer_Name  Product\n",
            "0        11        Prasad   iPhone\n",
            "1        21        Daniel      hTC\n",
            "2        31      Jeswanth  macbook\n",
            "\n",
            "     Ord_ID Cust_Name     Prod\n",
            "333      11    Prasad   iPhone\n",
            "444      21    Daniel      hTC\n",
            "555      31  Jeswanth  macbook\n"
          ]
        }
      ]
    },
    {
      "cell_type": "code",
      "source": [
        "#Converting all columns names into upper case\n",
        "import pandas as pd\n",
        "df1 = pd.read_csv(\"sales1.csv\")\n",
        "print(df1.head())\n",
        "\n",
        "df1.columns = df1.columns.str.upper()\n",
        "print()\n",
        "print(df1.head())"
      ],
      "metadata": {
        "colab": {
          "base_uri": "https://localhost:8080/"
        },
        "id": "gHFQsHcA6p11",
        "outputId": "6ede2bb1-4e3d-4b5b-d8f6-78b1b113b4ec"
      },
      "execution_count": null,
      "outputs": [
        {
          "output_type": "stream",
          "name": "stdout",
          "text": [
            "   Order ID Customer Name                 Product  Quantity\n",
            "0    166837         Veeru  34in Ultrawide Monitor         2\n",
            "1    166838         Tarun             Samsung m10         3\n",
            "2    166839         Kedar            20in Monitor         1\n",
            "3    166840       Lavanya               iPhone 11         3\n",
            "4    166841          Venu      Macbook Pro Laptop         2\n",
            "\n",
            "   ORDER ID CUSTOMER NAME                 PRODUCT  QUANTITY\n",
            "0    166837         Veeru  34in Ultrawide Monitor         2\n",
            "1    166838         Tarun             Samsung m10         3\n",
            "2    166839         Kedar            20in Monitor         1\n",
            "3    166840       Lavanya               iPhone 11         3\n",
            "4    166841          Venu      Macbook Pro Laptop         2\n"
          ]
        }
      ]
    },
    {
      "cell_type": "code",
      "source": [],
      "metadata": {
        "id": "4vJ3eOcz7aU5"
      },
      "execution_count": null,
      "outputs": []
    }
  ]
}