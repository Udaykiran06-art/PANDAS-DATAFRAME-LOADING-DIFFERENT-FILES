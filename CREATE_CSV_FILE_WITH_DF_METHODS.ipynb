{
  "nbformat": 4,
  "nbformat_minor": 0,
  "metadata": {
    "colab": {
      "provenance": [],
      "authorship_tag": "ABX9TyOROL1Wi1+sT5iWDYuNDIWK",
      "include_colab_link": true
    },
    "kernelspec": {
      "name": "python3",
      "display_name": "Python 3"
    },
    "language_info": {
      "name": "python"
    }
  },
  "cells": [
    {
      "cell_type": "markdown",
      "metadata": {
        "id": "view-in-github",
        "colab_type": "text"
      },
      "source": [
        "<a href=\"https://colab.research.google.com/github/Udaykiran06-art/PANDAS-DATAFRAME-LOADING-DIFFERENT-FILES/blob/main/CREATE_CSV_FILE_WITH_DF_METHODS.ipynb\" target=\"_parent\"><img src=\"https://colab.research.google.com/assets/colab-badge.svg\" alt=\"Open In Colab\"/></a>"
      ]
    },
    {
      "cell_type": "code",
      "execution_count": null,
      "metadata": {
        "colab": {
          "base_uri": "https://localhost:8080/",
          "height": 73
        },
        "id": "oHfIiiTkDH3B",
        "outputId": "c4942d32-c519-40f2-ba82-9af78fc05149"
      },
      "outputs": [
        {
          "output_type": "display_data",
          "data": {
            "text/plain": [
              "<IPython.core.display.HTML object>"
            ],
            "text/html": [
              "\n",
              "     <input type=\"file\" id=\"files-c0ada9b8-4758-4dfe-8522-91ec9939568f\" name=\"files[]\" multiple disabled\n",
              "        style=\"border:none\" />\n",
              "     <output id=\"result-c0ada9b8-4758-4dfe-8522-91ec9939568f\">\n",
              "      Upload widget is only available when the cell has been executed in the\n",
              "      current browser session. Please rerun this cell to enable.\n",
              "      </output>\n",
              "      <script>// Copyright 2017 Google LLC\n",
              "//\n",
              "// Licensed under the Apache License, Version 2.0 (the \"License\");\n",
              "// you may not use this file except in compliance with the License.\n",
              "// You may obtain a copy of the License at\n",
              "//\n",
              "//      http://www.apache.org/licenses/LICENSE-2.0\n",
              "//\n",
              "// Unless required by applicable law or agreed to in writing, software\n",
              "// distributed under the License is distributed on an \"AS IS\" BASIS,\n",
              "// WITHOUT WARRANTIES OR CONDITIONS OF ANY KIND, either express or implied.\n",
              "// See the License for the specific language governing permissions and\n",
              "// limitations under the License.\n",
              "\n",
              "/**\n",
              " * @fileoverview Helpers for google.colab Python module.\n",
              " */\n",
              "(function(scope) {\n",
              "function span(text, styleAttributes = {}) {\n",
              "  const element = document.createElement('span');\n",
              "  element.textContent = text;\n",
              "  for (const key of Object.keys(styleAttributes)) {\n",
              "    element.style[key] = styleAttributes[key];\n",
              "  }\n",
              "  return element;\n",
              "}\n",
              "\n",
              "// Max number of bytes which will be uploaded at a time.\n",
              "const MAX_PAYLOAD_SIZE = 100 * 1024;\n",
              "\n",
              "function _uploadFiles(inputId, outputId) {\n",
              "  const steps = uploadFilesStep(inputId, outputId);\n",
              "  const outputElement = document.getElementById(outputId);\n",
              "  // Cache steps on the outputElement to make it available for the next call\n",
              "  // to uploadFilesContinue from Python.\n",
              "  outputElement.steps = steps;\n",
              "\n",
              "  return _uploadFilesContinue(outputId);\n",
              "}\n",
              "\n",
              "// This is roughly an async generator (not supported in the browser yet),\n",
              "// where there are multiple asynchronous steps and the Python side is going\n",
              "// to poll for completion of each step.\n",
              "// This uses a Promise to block the python side on completion of each step,\n",
              "// then passes the result of the previous step as the input to the next step.\n",
              "function _uploadFilesContinue(outputId) {\n",
              "  const outputElement = document.getElementById(outputId);\n",
              "  const steps = outputElement.steps;\n",
              "\n",
              "  const next = steps.next(outputElement.lastPromiseValue);\n",
              "  return Promise.resolve(next.value.promise).then((value) => {\n",
              "    // Cache the last promise value to make it available to the next\n",
              "    // step of the generator.\n",
              "    outputElement.lastPromiseValue = value;\n",
              "    return next.value.response;\n",
              "  });\n",
              "}\n",
              "\n",
              "/**\n",
              " * Generator function which is called between each async step of the upload\n",
              " * process.\n",
              " * @param {string} inputId Element ID of the input file picker element.\n",
              " * @param {string} outputId Element ID of the output display.\n",
              " * @return {!Iterable<!Object>} Iterable of next steps.\n",
              " */\n",
              "function* uploadFilesStep(inputId, outputId) {\n",
              "  const inputElement = document.getElementById(inputId);\n",
              "  inputElement.disabled = false;\n",
              "\n",
              "  const outputElement = document.getElementById(outputId);\n",
              "  outputElement.innerHTML = '';\n",
              "\n",
              "  const pickedPromise = new Promise((resolve) => {\n",
              "    inputElement.addEventListener('change', (e) => {\n",
              "      resolve(e.target.files);\n",
              "    });\n",
              "  });\n",
              "\n",
              "  const cancel = document.createElement('button');\n",
              "  inputElement.parentElement.appendChild(cancel);\n",
              "  cancel.textContent = 'Cancel upload';\n",
              "  const cancelPromise = new Promise((resolve) => {\n",
              "    cancel.onclick = () => {\n",
              "      resolve(null);\n",
              "    };\n",
              "  });\n",
              "\n",
              "  // Wait for the user to pick the files.\n",
              "  const files = yield {\n",
              "    promise: Promise.race([pickedPromise, cancelPromise]),\n",
              "    response: {\n",
              "      action: 'starting',\n",
              "    }\n",
              "  };\n",
              "\n",
              "  cancel.remove();\n",
              "\n",
              "  // Disable the input element since further picks are not allowed.\n",
              "  inputElement.disabled = true;\n",
              "\n",
              "  if (!files) {\n",
              "    return {\n",
              "      response: {\n",
              "        action: 'complete',\n",
              "      }\n",
              "    };\n",
              "  }\n",
              "\n",
              "  for (const file of files) {\n",
              "    const li = document.createElement('li');\n",
              "    li.append(span(file.name, {fontWeight: 'bold'}));\n",
              "    li.append(span(\n",
              "        `(${file.type || 'n/a'}) - ${file.size} bytes, ` +\n",
              "        `last modified: ${\n",
              "            file.lastModifiedDate ? file.lastModifiedDate.toLocaleDateString() :\n",
              "                                    'n/a'} - `));\n",
              "    const percent = span('0% done');\n",
              "    li.appendChild(percent);\n",
              "\n",
              "    outputElement.appendChild(li);\n",
              "\n",
              "    const fileDataPromise = new Promise((resolve) => {\n",
              "      const reader = new FileReader();\n",
              "      reader.onload = (e) => {\n",
              "        resolve(e.target.result);\n",
              "      };\n",
              "      reader.readAsArrayBuffer(file);\n",
              "    });\n",
              "    // Wait for the data to be ready.\n",
              "    let fileData = yield {\n",
              "      promise: fileDataPromise,\n",
              "      response: {\n",
              "        action: 'continue',\n",
              "      }\n",
              "    };\n",
              "\n",
              "    // Use a chunked sending to avoid message size limits. See b/62115660.\n",
              "    let position = 0;\n",
              "    do {\n",
              "      const length = Math.min(fileData.byteLength - position, MAX_PAYLOAD_SIZE);\n",
              "      const chunk = new Uint8Array(fileData, position, length);\n",
              "      position += length;\n",
              "\n",
              "      const base64 = btoa(String.fromCharCode.apply(null, chunk));\n",
              "      yield {\n",
              "        response: {\n",
              "          action: 'append',\n",
              "          file: file.name,\n",
              "          data: base64,\n",
              "        },\n",
              "      };\n",
              "\n",
              "      let percentDone = fileData.byteLength === 0 ?\n",
              "          100 :\n",
              "          Math.round((position / fileData.byteLength) * 100);\n",
              "      percent.textContent = `${percentDone}% done`;\n",
              "\n",
              "    } while (position < fileData.byteLength);\n",
              "  }\n",
              "\n",
              "  // All done.\n",
              "  yield {\n",
              "    response: {\n",
              "      action: 'complete',\n",
              "    }\n",
              "  };\n",
              "}\n",
              "\n",
              "scope.google = scope.google || {};\n",
              "scope.google.colab = scope.google.colab || {};\n",
              "scope.google.colab._files = {\n",
              "  _uploadFiles,\n",
              "  _uploadFilesContinue,\n",
              "};\n",
              "})(self);\n",
              "</script> "
            ]
          },
          "metadata": {}
        },
        {
          "output_type": "stream",
          "name": "stdout",
          "text": [
            "Saving sales1.csv to sales1.csv\n"
          ]
        }
      ],
      "source": [
        "from google.colab import files\n",
        "uploaded = files.upload()"
      ]
    },
    {
      "cell_type": "code",
      "source": [
        "#Accessing first five rows from DataFrame\n",
        "import pandas as pd\n",
        "df1 = pd.read_csv(\"sales1.csv\")\n",
        "df2 = df1.head()\n",
        "print(df2)"
      ],
      "metadata": {
        "colab": {
          "base_uri": "https://localhost:8080/"
        },
        "id": "Zaqty2OpGdRY",
        "outputId": "f317b8b5-c4ea-4811-cf2b-3abc9dcb7a3a"
      },
      "execution_count": null,
      "outputs": [
        {
          "output_type": "stream",
          "name": "stdout",
          "text": [
            "   Order ID Customer Name                 Product  Quantity\n",
            "0    166837         Veeru  34in Ultrawide Monitor         2\n",
            "1    166838         Tarun             Samsung m10         3\n",
            "2    166839         Kedar            20in Monitor         1\n",
            "3    166840       Lavanya               iPhone 11         3\n",
            "4    166841          Venu      Macbook Pro Laptop         2\n"
          ]
        }
      ]
    },
    {
      "cell_type": "code",
      "source": [
        "#Accessing last five rows from DataFrame\n",
        "import pandas as pd\n",
        "df1 = pd.read_csv(\"sales1.csv\")\n",
        "df2 = df1.tail()\n",
        "print(df2)"
      ],
      "metadata": {
        "colab": {
          "base_uri": "https://localhost:8080/"
        },
        "id": "ewP4QdseG4F-",
        "outputId": "8ef765a1-e101-4af3-f4a5-adcb9561b013"
      },
      "execution_count": null,
      "outputs": [
        {
          "output_type": "stream",
          "name": "stdout",
          "text": [
            "     Order ID Customer Name             Product  Quantity\n",
            "595    167403        Balaji  Macbook Pro Laptop         1\n",
            "596    167404       Lavanya     ThinkPad Laptop         1\n",
            "597    167405          Venu       Flatscreen TV         1\n",
            "598    167406        Siddhu         Samsung m20         2\n",
            "599    167407         Tarun  LG Washing Machine         1\n"
          ]
        }
      ]
    },
    {
      "cell_type": "code",
      "source": [
        "#Accessing info()method from DataFrame\n",
        "import pandas as pd\n",
        "df1 = pd.read_csv(\"sales1.csv\")\n",
        "df1.info()"
      ],
      "metadata": {
        "colab": {
          "base_uri": "https://localhost:8080/"
        },
        "id": "5Dmdi3R7HPQr",
        "outputId": "b82b14db-1945-43fc-d9cd-c2e376ea7636"
      },
      "execution_count": null,
      "outputs": [
        {
          "output_type": "stream",
          "name": "stdout",
          "text": [
            "<class 'pandas.core.frame.DataFrame'>\n",
            "RangeIndex: 600 entries, 0 to 599\n",
            "Data columns (total 4 columns):\n",
            " #   Column         Non-Null Count  Dtype \n",
            "---  ------         --------------  ----- \n",
            " 0   Order ID       600 non-null    int64 \n",
            " 1   Customer Name  600 non-null    object\n",
            " 2   Product        600 non-null    object\n",
            " 3   Quantity       600 non-null    int64 \n",
            "dtypes: int64(2), object(2)\n",
            "memory usage: 18.9+ KB\n"
          ]
        }
      ]
    },
    {
      "cell_type": "code",
      "source": [
        "#Accessing count()method from DataFrame\n",
        "import pandas as pd\n",
        "df1 = pd.read_csv(\"sales1.csv\")\n",
        "c = df1.count()\n",
        "print(c)"
      ],
      "metadata": {
        "colab": {
          "base_uri": "https://localhost:8080/"
        },
        "id": "axzpZDvtH0hI",
        "outputId": "69375736-be78-41d5-c2d4-9ea0c261d956"
      },
      "execution_count": null,
      "outputs": [
        {
          "output_type": "stream",
          "name": "stdout",
          "text": [
            "Order ID         600\n",
            "Customer Name    600\n",
            "Product          600\n",
            "Quantity         600\n",
            "dtype: int64\n"
          ]
        }
      ]
    },
    {
      "cell_type": "code",
      "source": [
        "#Accessing describe()method from DataFrame\n",
        "import pandas as pd\n",
        "df1 = pd.read_csv(\"sales1.csv\")\n",
        "dsc = df1.describe()\n",
        "print(dsc)"
      ],
      "metadata": {
        "colab": {
          "base_uri": "https://localhost:8080/"
        },
        "id": "sECJ4ZwOIug9",
        "outputId": "df63d255-2abe-40b1-a52d-391184429f28"
      },
      "execution_count": null,
      "outputs": [
        {
          "output_type": "stream",
          "name": "stdout",
          "text": [
            "            Order ID    Quantity\n",
            "count     600.000000  600.000000\n",
            "mean   167122.751667    1.481667\n",
            "std       164.948568    0.683454\n",
            "min    166837.000000    1.000000\n",
            "25%    166980.750000    1.000000\n",
            "50%    167120.500000    1.000000\n",
            "75%    167266.250000    2.000000\n",
            "max    167409.000000    3.000000\n"
          ]
        }
      ]
    },
    {
      "cell_type": "code",
      "source": [
        "#Get the number of nunique values from the DataFrame\n",
        "import pandas as pd\n",
        "df1 = pd.read_csv(\"sales1.csv\")\n",
        "n = df1.nunique()\n",
        "print(n)"
      ],
      "metadata": {
        "colab": {
          "base_uri": "https://localhost:8080/"
        },
        "id": "cpKM_lsIJHP1",
        "outputId": "bb78e348-bcb1-4405-ba21-8b7306fa9ed0"
      },
      "execution_count": null,
      "outputs": [
        {
          "output_type": "stream",
          "name": "stdout",
          "text": [
            "Order ID         573\n",
            "Customer Name     23\n",
            "Product           21\n",
            "Quantity           3\n",
            "dtype: int64\n"
          ]
        }
      ]
    },
    {
      "cell_type": "code",
      "source": [
        "#Accessing single column from the DataFrame\n",
        "import pandas as pd\n",
        "df = pd.read_csv(\"sales1.csv\")\n",
        "print(df.Product)"
      ],
      "metadata": {
        "colab": {
          "base_uri": "https://localhost:8080/"
        },
        "id": "uGrP01amJpHl",
        "outputId": "09a90be5-e82d-4eac-a06d-c321bcb195fe"
      },
      "execution_count": null,
      "outputs": [
        {
          "output_type": "stream",
          "name": "stdout",
          "text": [
            "0      34in Ultrawide Monitor\n",
            "1                 Samsung m10\n",
            "2                20in Monitor\n",
            "3                   iPhone 11\n",
            "4          Macbook Pro Laptop\n",
            "                ...          \n",
            "595        Macbook Pro Laptop\n",
            "596           ThinkPad Laptop\n",
            "597             Flatscreen TV\n",
            "598               Samsung m20\n",
            "599        LG Washing Machine\n",
            "Name: Product, Length: 600, dtype: object\n"
          ]
        }
      ]
    },
    {
      "cell_type": "code",
      "source": [
        "#Accessing single column from the DataFrame\n",
        "import pandas as pd\n",
        "df = pd.read_csv(\"sales1.csv\")\n",
        "print(df[\"Product\"])"
      ],
      "metadata": {
        "colab": {
          "base_uri": "https://localhost:8080/"
        },
        "id": "fGYodQ1RKCaE",
        "outputId": "db1dd356-9add-432c-b073-4a8e00132a62"
      },
      "execution_count": null,
      "outputs": [
        {
          "output_type": "stream",
          "name": "stdout",
          "text": [
            "0      34in Ultrawide Monitor\n",
            "1                 Samsung m10\n",
            "2                20in Monitor\n",
            "3                   iPhone 11\n",
            "4          Macbook Pro Laptop\n",
            "                ...          \n",
            "595        Macbook Pro Laptop\n",
            "596           ThinkPad Laptop\n",
            "597             Flatscreen TV\n",
            "598               Samsung m20\n",
            "599        LG Washing Machine\n",
            "Name: Product, Length: 600, dtype: object\n"
          ]
        }
      ]
    },
    {
      "cell_type": "code",
      "source": [
        "#Accessing two columns from the DataFrame\n",
        "import pandas as pd\n",
        "df = pd.read_csv(\"sales1.csv\")\n",
        "print(df[[\"Product\",\"Customer Name\"]])"
      ],
      "metadata": {
        "colab": {
          "base_uri": "https://localhost:8080/"
        },
        "id": "rg1YN2-JKa2f",
        "outputId": "f0b6f8e7-6bdc-48d1-9c58-e728ae9a8734"
      },
      "execution_count": null,
      "outputs": [
        {
          "output_type": "stream",
          "name": "stdout",
          "text": [
            "                    Product Customer Name\n",
            "0    34in Ultrawide Monitor         Veeru\n",
            "1               Samsung m10         Tarun\n",
            "2              20in Monitor         Kedar\n",
            "3                 iPhone 11       Lavanya\n",
            "4        Macbook Pro Laptop          Venu\n",
            "..                      ...           ...\n",
            "595      Macbook Pro Laptop        Balaji\n",
            "596         ThinkPad Laptop       Lavanya\n",
            "597           Flatscreen TV          Venu\n",
            "598             Samsung m20        Siddhu\n",
            "599      LG Washing Machine         Tarun\n",
            "\n",
            "[600 rows x 2 columns]\n"
          ]
        }
      ]
    },
    {
      "cell_type": "code",
      "source": [
        "#Accessing single column from the DataFrame,applying sum\n",
        "import pandas as pd\n",
        "df = pd.read_csv(\"sales1.csv\")\n",
        "total = df[\"Quantity\"].sum()\n",
        "print(total)"
      ],
      "metadata": {
        "colab": {
          "base_uri": "https://localhost:8080/"
        },
        "id": "f-cPomv6LSLX",
        "outputId": "7647df1f-f60d-49a6-acd5-0e0d60dd5864"
      },
      "execution_count": null,
      "outputs": [
        {
          "output_type": "stream",
          "name": "stdout",
          "text": [
            "889\n"
          ]
        }
      ]
    },
    {
      "cell_type": "code",
      "source": [
        "#Creating DataFrame by using csv file\n",
        "import pandas as pd\n",
        "df = pd.read_csv(\"sales1.csv\")\n",
        "print(df)"
      ],
      "metadata": {
        "colab": {
          "base_uri": "https://localhost:8080/"
        },
        "id": "FbDZLQKML0iW",
        "outputId": "e3e083bb-a8ed-403e-ecab-54c4fed97a67"
      },
      "execution_count": null,
      "outputs": [
        {
          "output_type": "stream",
          "name": "stdout",
          "text": [
            "     Order ID Customer Name                 Product  Quantity\n",
            "0      166837         Veeru  34in Ultrawide Monitor         2\n",
            "1      166838         Tarun             Samsung m10         3\n",
            "2      166839         Kedar            20in Monitor         1\n",
            "3      166840       Lavanya               iPhone 11         3\n",
            "4      166841          Venu      Macbook Pro Laptop         2\n",
            "..        ...           ...                     ...       ...\n",
            "595    167403        Balaji      Macbook Pro Laptop         1\n",
            "596    167404       Lavanya         ThinkPad Laptop         1\n",
            "597    167405          Venu           Flatscreen TV         1\n",
            "598    167406        Siddhu             Samsung m20         2\n",
            "599    167407         Tarun      LG Washing Machine         1\n",
            "\n",
            "[600 rows x 4 columns]\n"
          ]
        }
      ]
    },
    {
      "cell_type": "code",
      "source": [
        "#Rearraging columns in DataFrame\n",
        "import pandas as pd\n",
        "df = pd.read_csv(\"sales1.csv\")\n",
        "df = df[[\"Product\",\"Customer Name\",\"Quantity\",\"Order ID\"]]\n",
        "print(df)"
      ],
      "metadata": {
        "colab": {
          "base_uri": "https://localhost:8080/"
        },
        "id": "T7_cPgByMNAD",
        "outputId": "5063bdc1-9597-403a-84c4-3dbe34ef70d9"
      },
      "execution_count": null,
      "outputs": [
        {
          "output_type": "stream",
          "name": "stdout",
          "text": [
            "                    Product Customer Name  Quantity  Order ID\n",
            "0    34in Ultrawide Monitor         Veeru         2    166837\n",
            "1               Samsung m10         Tarun         3    166838\n",
            "2              20in Monitor         Kedar         1    166839\n",
            "3                 iPhone 11       Lavanya         3    166840\n",
            "4        Macbook Pro Laptop          Venu         2    166841\n",
            "..                      ...           ...       ...       ...\n",
            "595      Macbook Pro Laptop        Balaji         1    167403\n",
            "596         ThinkPad Laptop       Lavanya         1    167404\n",
            "597           Flatscreen TV          Venu         1    167405\n",
            "598             Samsung m20        Siddhu         2    167406\n",
            "599      LG Washing Machine         Tarun         1    167407\n",
            "\n",
            "[600 rows x 4 columns]\n"
          ]
        }
      ]
    }
  ]
}