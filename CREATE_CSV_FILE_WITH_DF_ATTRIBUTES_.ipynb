{
  "nbformat": 4,
  "nbformat_minor": 0,
  "metadata": {
    "colab": {
      "provenance": [],
      "authorship_tag": "ABX9TyNRStAr2nvDPCcgUjQph4W5",
      "include_colab_link": true
    },
    "kernelspec": {
      "name": "python3",
      "display_name": "Python 3"
    },
    "language_info": {
      "name": "python"
    }
  },
  "cells": [
    {
      "cell_type": "markdown",
      "metadata": {
        "id": "view-in-github",
        "colab_type": "text"
      },
      "source": [
        "<a href=\"https://colab.research.google.com/github/Udaykiran06-art/PANDAS-DATAFRAME-LOADING-DIFFERENT-FILES/blob/main/CREATE_CSV_FILE_WITH_DF_ATTRIBUTES_.ipynb\" target=\"_parent\"><img src=\"https://colab.research.google.com/assets/colab-badge.svg\" alt=\"Open In Colab\"/></a>"
      ]
    },
    {
      "cell_type": "code",
      "execution_count": null,
      "metadata": {
        "colab": {
          "base_uri": "https://localhost:8080/",
          "height": 73
        },
        "id": "Q3B0_EwXtlcE",
        "outputId": "a9a274a6-cb42-426e-dd34-95a88bc90563"
      },
      "outputs": [
        {
          "output_type": "display_data",
          "data": {
            "text/plain": [
              "<IPython.core.display.HTML object>"
            ],
            "text/html": [
              "\n",
              "     <input type=\"file\" id=\"files-6823383f-8711-4565-8afe-e8d1e6419b7f\" name=\"files[]\" multiple disabled\n",
              "        style=\"border:none\" />\n",
              "     <output id=\"result-6823383f-8711-4565-8afe-e8d1e6419b7f\">\n",
              "      Upload widget is only available when the cell has been executed in the\n",
              "      current browser session. Please rerun this cell to enable.\n",
              "      </output>\n",
              "      <script>// Copyright 2017 Google LLC\n",
              "//\n",
              "// Licensed under the Apache License, Version 2.0 (the \"License\");\n",
              "// you may not use this file except in compliance with the License.\n",
              "// You may obtain a copy of the License at\n",
              "//\n",
              "//      http://www.apache.org/licenses/LICENSE-2.0\n",
              "//\n",
              "// Unless required by applicable law or agreed to in writing, software\n",
              "// distributed under the License is distributed on an \"AS IS\" BASIS,\n",
              "// WITHOUT WARRANTIES OR CONDITIONS OF ANY KIND, either express or implied.\n",
              "// See the License for the specific language governing permissions and\n",
              "// limitations under the License.\n",
              "\n",
              "/**\n",
              " * @fileoverview Helpers for google.colab Python module.\n",
              " */\n",
              "(function(scope) {\n",
              "function span(text, styleAttributes = {}) {\n",
              "  const element = document.createElement('span');\n",
              "  element.textContent = text;\n",
              "  for (const key of Object.keys(styleAttributes)) {\n",
              "    element.style[key] = styleAttributes[key];\n",
              "  }\n",
              "  return element;\n",
              "}\n",
              "\n",
              "// Max number of bytes which will be uploaded at a time.\n",
              "const MAX_PAYLOAD_SIZE = 100 * 1024;\n",
              "\n",
              "function _uploadFiles(inputId, outputId) {\n",
              "  const steps = uploadFilesStep(inputId, outputId);\n",
              "  const outputElement = document.getElementById(outputId);\n",
              "  // Cache steps on the outputElement to make it available for the next call\n",
              "  // to uploadFilesContinue from Python.\n",
              "  outputElement.steps = steps;\n",
              "\n",
              "  return _uploadFilesContinue(outputId);\n",
              "}\n",
              "\n",
              "// This is roughly an async generator (not supported in the browser yet),\n",
              "// where there are multiple asynchronous steps and the Python side is going\n",
              "// to poll for completion of each step.\n",
              "// This uses a Promise to block the python side on completion of each step,\n",
              "// then passes the result of the previous step as the input to the next step.\n",
              "function _uploadFilesContinue(outputId) {\n",
              "  const outputElement = document.getElementById(outputId);\n",
              "  const steps = outputElement.steps;\n",
              "\n",
              "  const next = steps.next(outputElement.lastPromiseValue);\n",
              "  return Promise.resolve(next.value.promise).then((value) => {\n",
              "    // Cache the last promise value to make it available to the next\n",
              "    // step of the generator.\n",
              "    outputElement.lastPromiseValue = value;\n",
              "    return next.value.response;\n",
              "  });\n",
              "}\n",
              "\n",
              "/**\n",
              " * Generator function which is called between each async step of the upload\n",
              " * process.\n",
              " * @param {string} inputId Element ID of the input file picker element.\n",
              " * @param {string} outputId Element ID of the output display.\n",
              " * @return {!Iterable<!Object>} Iterable of next steps.\n",
              " */\n",
              "function* uploadFilesStep(inputId, outputId) {\n",
              "  const inputElement = document.getElementById(inputId);\n",
              "  inputElement.disabled = false;\n",
              "\n",
              "  const outputElement = document.getElementById(outputId);\n",
              "  outputElement.innerHTML = '';\n",
              "\n",
              "  const pickedPromise = new Promise((resolve) => {\n",
              "    inputElement.addEventListener('change', (e) => {\n",
              "      resolve(e.target.files);\n",
              "    });\n",
              "  });\n",
              "\n",
              "  const cancel = document.createElement('button');\n",
              "  inputElement.parentElement.appendChild(cancel);\n",
              "  cancel.textContent = 'Cancel upload';\n",
              "  const cancelPromise = new Promise((resolve) => {\n",
              "    cancel.onclick = () => {\n",
              "      resolve(null);\n",
              "    };\n",
              "  });\n",
              "\n",
              "  // Wait for the user to pick the files.\n",
              "  const files = yield {\n",
              "    promise: Promise.race([pickedPromise, cancelPromise]),\n",
              "    response: {\n",
              "      action: 'starting',\n",
              "    }\n",
              "  };\n",
              "\n",
              "  cancel.remove();\n",
              "\n",
              "  // Disable the input element since further picks are not allowed.\n",
              "  inputElement.disabled = true;\n",
              "\n",
              "  if (!files) {\n",
              "    return {\n",
              "      response: {\n",
              "        action: 'complete',\n",
              "      }\n",
              "    };\n",
              "  }\n",
              "\n",
              "  for (const file of files) {\n",
              "    const li = document.createElement('li');\n",
              "    li.append(span(file.name, {fontWeight: 'bold'}));\n",
              "    li.append(span(\n",
              "        `(${file.type || 'n/a'}) - ${file.size} bytes, ` +\n",
              "        `last modified: ${\n",
              "            file.lastModifiedDate ? file.lastModifiedDate.toLocaleDateString() :\n",
              "                                    'n/a'} - `));\n",
              "    const percent = span('0% done');\n",
              "    li.appendChild(percent);\n",
              "\n",
              "    outputElement.appendChild(li);\n",
              "\n",
              "    const fileDataPromise = new Promise((resolve) => {\n",
              "      const reader = new FileReader();\n",
              "      reader.onload = (e) => {\n",
              "        resolve(e.target.result);\n",
              "      };\n",
              "      reader.readAsArrayBuffer(file);\n",
              "    });\n",
              "    // Wait for the data to be ready.\n",
              "    let fileData = yield {\n",
              "      promise: fileDataPromise,\n",
              "      response: {\n",
              "        action: 'continue',\n",
              "      }\n",
              "    };\n",
              "\n",
              "    // Use a chunked sending to avoid message size limits. See b/62115660.\n",
              "    let position = 0;\n",
              "    do {\n",
              "      const length = Math.min(fileData.byteLength - position, MAX_PAYLOAD_SIZE);\n",
              "      const chunk = new Uint8Array(fileData, position, length);\n",
              "      position += length;\n",
              "\n",
              "      const base64 = btoa(String.fromCharCode.apply(null, chunk));\n",
              "      yield {\n",
              "        response: {\n",
              "          action: 'append',\n",
              "          file: file.name,\n",
              "          data: base64,\n",
              "        },\n",
              "      };\n",
              "\n",
              "      let percentDone = fileData.byteLength === 0 ?\n",
              "          100 :\n",
              "          Math.round((position / fileData.byteLength) * 100);\n",
              "      percent.textContent = `${percentDone}% done`;\n",
              "\n",
              "    } while (position < fileData.byteLength);\n",
              "  }\n",
              "\n",
              "  // All done.\n",
              "  yield {\n",
              "    response: {\n",
              "      action: 'complete',\n",
              "    }\n",
              "  };\n",
              "}\n",
              "\n",
              "scope.google = scope.google || {};\n",
              "scope.google.colab = scope.google.colab || {};\n",
              "scope.google.colab._files = {\n",
              "  _uploadFiles,\n",
              "  _uploadFilesContinue,\n",
              "};\n",
              "})(self);\n",
              "</script> "
            ]
          },
          "metadata": {}
        },
        {
          "output_type": "stream",
          "name": "stdout",
          "text": [
            "Saving sales1.csv to sales1.csv\n"
          ]
        }
      ],
      "source": [
        "#Loading csv file\n",
        "from google.colab import files\n",
        "uploaded = files.upload()"
      ]
    },
    {
      "cell_type": "code",
      "source": [
        "import pandas as pd\n",
        "df = pd.read_csv(\"sales1.csv\")\n",
        "print(df)"
      ],
      "metadata": {
        "colab": {
          "base_uri": "https://localhost:8080/"
        },
        "id": "lUMbZvcRzNB4",
        "outputId": "0be73ecb-330a-4ff4-d68d-8574dcda34eb"
      },
      "execution_count": null,
      "outputs": [
        {
          "output_type": "stream",
          "name": "stdout",
          "text": [
            "     Order ID Customer Name                 Product  Quantity\n",
            "0      166837         Veeru  34in Ultrawide Monitor         2\n",
            "1      166838         Tarun             Samsung m10         3\n",
            "2      166839         Kedar            20in Monitor         1\n",
            "3      166840       Lavanya               iPhone 11         3\n",
            "4      166841          Venu      Macbook Pro Laptop         2\n",
            "..        ...           ...                     ...       ...\n",
            "595    167403        Balaji      Macbook Pro Laptop         1\n",
            "596    167404       Lavanya         ThinkPad Laptop         1\n",
            "597    167405          Venu           Flatscreen TV         1\n",
            "598    167406        Siddhu             Samsung m20         2\n",
            "599    167407         Tarun      LG Washing Machine         1\n",
            "\n",
            "[600 rows x 4 columns]\n"
          ]
        }
      ]
    },
    {
      "cell_type": "code",
      "source": [
        "#Accessing total number of elements/values from DataFrame\n",
        "import pandas as pd\n",
        "df = pd.read_csv(\"sales1.csv\")\n",
        "print(df)\n",
        "print()\n",
        "print(\"Number of elements in DataFrame:\",df.size)\n",
        "print(\"Number of elements in DataFrame:\",df.shape[0]*df.shape[1])"
      ],
      "metadata": {
        "colab": {
          "base_uri": "https://localhost:8080/"
        },
        "id": "GCe020BCuLny",
        "outputId": "05273c70-0e14-4874-ecd8-931f74dd83c6"
      },
      "execution_count": null,
      "outputs": [
        {
          "output_type": "stream",
          "name": "stdout",
          "text": [
            "     Order ID Customer Name                 Product  Quantity\n",
            "0      166837         Veeru  34in Ultrawide Monitor         2\n",
            "1      166838         Tarun             Samsung m10         3\n",
            "2      166839         Kedar            20in Monitor         1\n",
            "3      166840       Lavanya               iPhone 11         3\n",
            "4      166841          Venu      Macbook Pro Laptop         2\n",
            "..        ...           ...                     ...       ...\n",
            "595    167403        Balaji      Macbook Pro Laptop         1\n",
            "596    167404       Lavanya         ThinkPad Laptop         1\n",
            "597    167405          Venu           Flatscreen TV         1\n",
            "598    167406        Siddhu             Samsung m20         2\n",
            "599    167407         Tarun      LG Washing Machine         1\n",
            "\n",
            "[600 rows x 4 columns]\n",
            "\n",
            "Number of elements in DataFrame: 2400\n",
            "Number of elements in DataFrame: 2400\n"
          ]
        }
      ]
    },
    {
      "cell_type": "code",
      "source": [
        "#Checking total number of rows / length from the DataFrame\n",
        "import pandas as pd\n",
        "df = pd.read_csv(\"sales1.csv\")\n",
        "print(df)\n",
        "print()\n",
        "print(\"Total number of rows in DataFrame:\",len(df))"
      ],
      "metadata": {
        "colab": {
          "base_uri": "https://localhost:8080/"
        },
        "id": "zP95bII-ynE8",
        "outputId": "00314a7f-a806-4340-f6ba-873fbe4b1285"
      },
      "execution_count": null,
      "outputs": [
        {
          "output_type": "stream",
          "name": "stdout",
          "text": [
            "     Order ID Customer Name                 Product  Quantity\n",
            "0      166837         Veeru  34in Ultrawide Monitor         2\n",
            "1      166838         Tarun             Samsung m10         3\n",
            "2      166839         Kedar            20in Monitor         1\n",
            "3      166840       Lavanya               iPhone 11         3\n",
            "4      166841          Venu      Macbook Pro Laptop         2\n",
            "..        ...           ...                     ...       ...\n",
            "595    167403        Balaji      Macbook Pro Laptop         1\n",
            "596    167404       Lavanya         ThinkPad Laptop         1\n",
            "597    167405          Venu           Flatscreen TV         1\n",
            "598    167406        Siddhu             Samsung m20         2\n",
            "599    167407         Tarun      LG Washing Machine         1\n",
            "\n",
            "[600 rows x 4 columns]\n",
            "\n",
            "Total number of rows in DataFrame: 600\n"
          ]
        }
      ]
    },
    {
      "cell_type": "code",
      "source": [
        "#Accessing columns attritube from DataFrame\n",
        "import pandas as pd\n",
        "df = pd.read_csv(\"sales1.csv\")\n",
        "print(df)\n",
        "print()\n",
        "print(df.columns)"
      ],
      "metadata": {
        "colab": {
          "base_uri": "https://localhost:8080/"
        },
        "id": "Pp-4oKtg0vWZ",
        "outputId": "57309b0d-dbf8-40f5-ed4e-2dc4aca784c2"
      },
      "execution_count": null,
      "outputs": [
        {
          "output_type": "stream",
          "name": "stdout",
          "text": [
            "     Order ID Customer Name                 Product  Quantity\n",
            "0      166837         Veeru  34in Ultrawide Monitor         2\n",
            "1      166838         Tarun             Samsung m10         3\n",
            "2      166839         Kedar            20in Monitor         1\n",
            "3      166840       Lavanya               iPhone 11         3\n",
            "4      166841          Venu      Macbook Pro Laptop         2\n",
            "..        ...           ...                     ...       ...\n",
            "595    167403        Balaji      Macbook Pro Laptop         1\n",
            "596    167404       Lavanya         ThinkPad Laptop         1\n",
            "597    167405          Venu           Flatscreen TV         1\n",
            "598    167406        Siddhu             Samsung m20         2\n",
            "599    167407         Tarun      LG Washing Machine         1\n",
            "\n",
            "[600 rows x 4 columns]\n",
            "\n",
            "Index(['Order ID', 'Customer Name', 'Product', 'Quantity'], dtype='object')\n"
          ]
        }
      ]
    },
    {
      "cell_type": "code",
      "source": [
        "#Accessing shape attribute from DataFrame\n",
        "import pandas as pd\n",
        "df = pd.read_csv(\"sales1.csv\")\n",
        "print(df)\n",
        "print()\n",
        "print(df.shape)"
      ],
      "metadata": {
        "colab": {
          "base_uri": "https://localhost:8080/"
        },
        "id": "DChOAFIY1yGG",
        "outputId": "82f43c35-158b-4f90-9aea-63fb7989e7c2"
      },
      "execution_count": null,
      "outputs": [
        {
          "output_type": "stream",
          "name": "stdout",
          "text": [
            "     Order ID Customer Name                 Product  Quantity\n",
            "0      166837         Veeru  34in Ultrawide Monitor         2\n",
            "1      166838         Tarun             Samsung m10         3\n",
            "2      166839         Kedar            20in Monitor         1\n",
            "3      166840       Lavanya               iPhone 11         3\n",
            "4      166841          Venu      Macbook Pro Laptop         2\n",
            "..        ...           ...                     ...       ...\n",
            "595    167403        Balaji      Macbook Pro Laptop         1\n",
            "596    167404       Lavanya         ThinkPad Laptop         1\n",
            "597    167405          Venu           Flatscreen TV         1\n",
            "598    167406        Siddhu             Samsung m20         2\n",
            "599    167407         Tarun      LG Washing Machine         1\n",
            "\n",
            "[600 rows x 4 columns]\n",
            "\n",
            "(600, 4)\n"
          ]
        }
      ]
    },
    {
      "cell_type": "code",
      "source": [
        "#Accessing shape attribute and checking total number of rows\n",
        "import pandas as pd\n",
        "df = pd.read_csv(\"sales1.csv\")\n",
        "print()\n",
        "print(df.shape[0])"
      ],
      "metadata": {
        "colab": {
          "base_uri": "https://localhost:8080/"
        },
        "id": "CCe576dR2TmJ",
        "outputId": "8fa08a27-939a-4b6f-d173-fa6f2f857429"
      },
      "execution_count": null,
      "outputs": [
        {
          "output_type": "stream",
          "name": "stdout",
          "text": [
            "\n",
            "600\n"
          ]
        }
      ]
    },
    {
      "cell_type": "code",
      "source": [
        "#Accessing sahpe attribute and checking total number of rows\n",
        "import pandas as pd\n",
        "df = pd.read_csv(\"sales1.csv\")\n",
        "print(df.shape[1])"
      ],
      "metadata": {
        "colab": {
          "base_uri": "https://localhost:8080/"
        },
        "id": "diLmzC1i272W",
        "outputId": "1e253602-e431-4b75-e5e0-a7afc443927b"
      },
      "execution_count": null,
      "outputs": [
        {
          "output_type": "stream",
          "name": "stdout",
          "text": [
            "4\n"
          ]
        }
      ]
    },
    {
      "cell_type": "code",
      "source": [
        "#Accessing total number of elements/values from DataFrame\n",
        "import pandas as pd\n",
        "df = pd.read_csv(\"sales1.csv\")\n",
        "print(df.size)\n"
      ],
      "metadata": {
        "colab": {
          "base_uri": "https://localhost:8080/"
        },
        "id": "Tsfl4AMm3Wdb",
        "outputId": "7b2704b2-814a-444d-9e63-9561a976b1fe"
      },
      "execution_count": null,
      "outputs": [
        {
          "output_type": "stream",
          "name": "stdout",
          "text": [
            "2400\n"
          ]
        }
      ]
    },
    {
      "cell_type": "code",
      "source": [
        "#Checking all columns datatype from DataFrame\n",
        "import pandas as pd\n",
        "df = pd.read_csv(\"sales1.csv\")\n",
        "print(df.dtypes)"
      ],
      "metadata": {
        "colab": {
          "base_uri": "https://localhost:8080/"
        },
        "id": "7JNocssF3zeh",
        "outputId": "df52e9b5-7330-4256-cbff-e4a617ed57c2"
      },
      "execution_count": null,
      "outputs": [
        {
          "output_type": "stream",
          "name": "stdout",
          "text": [
            "Order ID          int64\n",
            "Customer Name    object\n",
            "Product          object\n",
            "Quantity          int64\n",
            "dtype: object\n"
          ]
        }
      ]
    },
    {
      "cell_type": "code",
      "source": [
        "#Checking DataFrame empty or not\n",
        "import pandas as pd\n",
        "df = pd.read_csv(\"sales1.csv\")\n",
        "print(df.empty)"
      ],
      "metadata": {
        "colab": {
          "base_uri": "https://localhost:8080/"
        },
        "id": "TzyUMIha4IDw",
        "outputId": "6181978d-318f-4647-d606-bafc6bda34e6"
      },
      "execution_count": null,
      "outputs": [
        {
          "output_type": "stream",
          "name": "stdout",
          "text": [
            "False\n"
          ]
        }
      ]
    },
    {
      "cell_type": "code",
      "source": [
        "#Checking DataFrame empty or not\n",
        "import pandas as pd\n",
        "df = pd.DataFrame()\n",
        "print(df)\n",
        "print()\n",
        "print(df.empty)"
      ],
      "metadata": {
        "colab": {
          "base_uri": "https://localhost:8080/"
        },
        "id": "AgZMDsB34arp",
        "outputId": "2142c0ba-531b-4733-b784-422b89d4b730"
      },
      "execution_count": null,
      "outputs": [
        {
          "output_type": "stream",
          "name": "stdout",
          "text": [
            "Empty DataFrame\n",
            "Columns: []\n",
            "Index: []\n",
            "\n",
            "True\n"
          ]
        }
      ]
    },
    {
      "cell_type": "code",
      "source": [
        "#Accessing index attribute from Dataframe\n",
        "import pandas as pd\n",
        "df = pd.read_csv(\"sales1.csv\")\n",
        "print(df.index)"
      ],
      "metadata": {
        "colab": {
          "base_uri": "https://localhost:8080/"
        },
        "id": "2yg5mtsc47Q3",
        "outputId": "119e2aee-b72f-4e31-c41c-42fbaebe14d8"
      },
      "execution_count": null,
      "outputs": [
        {
          "output_type": "stream",
          "name": "stdout",
          "text": [
            "RangeIndex(start=0, stop=600, step=1)\n"
          ]
        }
      ]
    },
    {
      "cell_type": "code",
      "source": [
        "#Accessing values attribute from DataFrame\n",
        "import pandas as pd\n",
        "df = pd.read_csv(\"sales1.csv\")\n",
        "print(df.values)"
      ],
      "metadata": {
        "colab": {
          "base_uri": "https://localhost:8080/"
        },
        "id": "S8RR_07Z5Po0",
        "outputId": "1a723200-adb9-434c-8246-2fb3ace55c56"
      },
      "execution_count": null,
      "outputs": [
        {
          "output_type": "stream",
          "name": "stdout",
          "text": [
            "[[166837 'Veeru' '34in Ultrawide Monitor' 2]\n",
            " [166838 'Tarun' 'Samsung m10' 3]\n",
            " [166839 'Kedar' '20in Monitor' 1]\n",
            " ...\n",
            " [167405 'Venu' 'Flatscreen TV' 1]\n",
            " [167406 'Siddhu' 'Samsung m20' 2]\n",
            " [167407 'Tarun' 'LG Washing Machine' 1]]\n"
          ]
        }
      ]
    },
    {
      "cell_type": "code",
      "source": [
        "#Converting rows as column and columns as rows from DataFrame\n",
        "import pandas as pd\n",
        "details = [[\"Sagar\",20,10000],[\"Daniel\",16,20000],[\"Veeru\",24,30000],[\"Raju\",25,40000],[\"Kiran\",26,50000],[\"Kedar\",27,60000],[\"Reena\",28,70000]]\n",
        "df = pd.DataFrame(details,columns=[\"Name\",\"Age\",\"Salary\"])\n",
        "print(df)\n",
        "print()\n",
        "print(df.T)"
      ],
      "metadata": {
        "colab": {
          "base_uri": "https://localhost:8080/"
        },
        "id": "yKJjbrvu5koY",
        "outputId": "2b039c1b-8b76-46d7-f19c-68601b700dc0"
      },
      "execution_count": null,
      "outputs": [
        {
          "output_type": "stream",
          "name": "stdout",
          "text": [
            "     Name  Age  Salary\n",
            "0   Sagar   20   10000\n",
            "1  Daniel   16   20000\n",
            "2   Veeru   24   30000\n",
            "3    Raju   25   40000\n",
            "4   Kiran   26   50000\n",
            "5   Kedar   27   60000\n",
            "6   Reena   28   70000\n",
            "\n",
            "            0       1      2      3      4      5      6\n",
            "Name    Sagar  Daniel  Veeru   Raju  Kiran  Kedar  Reena\n",
            "Age        20      16     24     25     26     27     28\n",
            "Salary  10000   20000  30000  40000  50000  60000  70000\n"
          ]
        }
      ]
    },
    {
      "cell_type": "code",
      "source": [
        "#Creating DataFrame and checking column names\n",
        "import pandas as pd\n",
        "df = pd.read_csv(\"sales1.csv\")\n",
        "print(df.head())\n",
        "print()\n",
        "print(df.columns)"
      ],
      "metadata": {
        "colab": {
          "base_uri": "https://localhost:8080/"
        },
        "id": "Hp69Vv6SNbZm",
        "outputId": "2346741a-9261-4508-e7f3-96500a763278"
      },
      "execution_count": null,
      "outputs": [
        {
          "output_type": "stream",
          "name": "stdout",
          "text": [
            "   Order ID Customer Name                 Product  Quantity\n",
            "0    166837         Veeru  34in Ultrawide Monitor         2\n",
            "1    166838         Tarun             Samsung m10         3\n",
            "2    166839         Kedar            20in Monitor         1\n",
            "3    166840       Lavanya               iPhone 11         3\n",
            "4    166841          Venu      Macbook Pro Laptop         2\n",
            "\n",
            "Index(['Order ID', 'Customer Name', 'Product', 'Quantity'], dtype='object')\n"
          ]
        }
      ]
    }
  ]
}